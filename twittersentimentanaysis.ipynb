{
 "cells": [
  {
   "cell_type": "code",
   "execution_count": 59,
   "metadata": {},
   "outputs": [],
   "source": [
    "import tweepy\n",
    "from tweepy import OAuthHandler\n",
    "from textblob import TextBlob as tb\n",
    "import sys\n",
    "import csv\n",
    "import re\n",
    "import pandas as pd\n",
    "import matplotlib.pyplot as plt"
   ]
  },
  {
   "cell_type": "code",
   "execution_count": 53,
   "metadata": {},
   "outputs": [],
   "source": [
    "consumerKey = ''\n",
    "consumerSecret = ''\n",
    "accessToken = ''\n",
    "accessTokenSecret = ''\n"
   ]
  },
  {
   "cell_type": "code",
   "execution_count": 54,
   "metadata": {},
   "outputs": [],
   "source": [
    "auth = tweepy.OAuthHandler(consumerKey, consumerSecret)\n",
    "auth.set_access_token(accessToken, accessTokenSecret)\n",
    "api = tweepy.API(auth)"
   ]
  },
  {
   "cell_type": "code",
   "execution_count": 55,
   "metadata": {},
   "outputs": [
    {
     "name": "stdout",
     "output_type": "stream",
     "text": [
      "Enter name of celebrity or brand simi\n",
      "Enter number of tweet to search 10\n"
     ]
    }
   ],
   "source": [
    "searchTerm = input(\"Enter name of celebrity or brand \")\n",
    "NoOfTerms = int(input('Enter number of tweet to search '))\n"
   ]
  },
  {
   "cell_type": "code",
   "execution_count": 56,
   "metadata": {},
   "outputs": [],
   "source": [
    "\n",
    "tweets = tweepy.Cursor(api.search, q=searchTerm).items(NoOfTerms)\n",
    "unwanted_words=['@','RT',':','https','http']\n",
    "symbols=['@','#']\n",
    "data=[]"
   ]
  },
  {
   "cell_type": "code",
   "execution_count": 57,
   "metadata": {},
   "outputs": [
    {
     "name": "stdout",
     "output_type": "stream",
     "text": [
      "Very cutem I cant stop looking this picture becauce Kris stuning\n",
      "Sentiment(polarity=0.2, subjectivity=0.3)\n",
      "You can t control what others do you can only control your response\n",
      "Sentiment(polarity=0.0, subjectivity=1.0)\n",
      "\n",
      "Sentiment(polarity=0.0, subjectivity=0.0)\n",
      "Si s veritat el que diu aquest diari de fatxes el Borb s ha emprenyat com una mona de simi no de monarquia per la com\n",
      "Sentiment(polarity=0.0, subjectivity=0.0)\n",
      "Drivers parade Seb5 Kimi7 BritishGP\n",
      "Sentiment(polarity=-0.25, subjectivity=0.23333333333333334)\n",
      "Instagram story\n",
      "Sentiment(polarity=0.0, subjectivity=0.0)\n",
      "Vettel still having issues with his neck but he hopes to be okay in the race Heavier fuel loads\n",
      "Sentiment(polarity=0.5, subjectivity=0.5)\n",
      "In all of this NYSC Certificate wahala how is it ok to require NYSC Certificate for a regular job but only WAEC Certificate\n",
      "Sentiment(polarity=0.16666666666666666, subjectivity=0.5256410256410257)\n",
      "Si s veritat el que diu aquest diari de fatxes el Borb s ha emprenyat com una mona de simi no de monarquia per la com\n",
      "Sentiment(polarity=0.0, subjectivity=0.0)\n",
      "It was fine simi Dreamt I was hugged by a monkey Weird\n",
      "Sentiment(polarity=-0.04444444444444443, subjectivity=0.5)\n"
     ]
    }
   ],
   "source": [
    "for tweet in tweets:\n",
    "    text=tweet.text\n",
    "    textWords=text.split()\n",
    "    cleanedTweet=' '.join(re.sub(\"(@[A-Za-z0-9]+)|([^0-9A-Za-z \\t])|(\\w+:\\/\\/\\S+)|(RT)\", \" \", text).split())\n",
    "    print (cleanedTweet)\n",
    "\n",
    "    analysis= tb(cleanedTweet)\n",
    "    print (analysis.sentiment)\n",
    "    polarity = 'Positive'\n",
    "    if(analysis.sentiment.polarity < 0):\n",
    "        polarity = 'Negative'\n",
    "    if(0<=analysis.sentiment.polarity <=0.2):\n",
    "        polarity = 'Neutral'\n",
    "    \n",
    "    dic={}\n",
    "    dic['Sentiment']=polarity\n",
    "    dic['Tweet']=cleanedTweet\n",
    "    data.append(dic)\n",
    "df=pd.DataFrame(data)\n",
    "df.to_csv('devclan.csv')"
   ]
  },
  {
   "cell_type": "code",
   "execution_count": 67,
   "metadata": {},
   "outputs": [],
   "source": [
    "my_df = pd.read_csv('devclan.csv',index_col=0)"
   ]
  },
  {
   "cell_type": "code",
   "execution_count": 76,
   "metadata": {},
   "outputs": [
    {
     "data": {
      "text/html": [
       "<div>\n",
       "<style scoped>\n",
       "    .dataframe tbody tr th:only-of-type {\n",
       "        vertical-align: middle;\n",
       "    }\n",
       "\n",
       "    .dataframe tbody tr th {\n",
       "        vertical-align: top;\n",
       "    }\n",
       "\n",
       "    .dataframe thead th {\n",
       "        text-align: right;\n",
       "    }\n",
       "</style>\n",
       "<table border=\"1\" class=\"dataframe\">\n",
       "  <thead>\n",
       "    <tr style=\"text-align: right;\">\n",
       "      <th></th>\n",
       "      <th>Sentiment</th>\n",
       "      <th>Tweet</th>\n",
       "    </tr>\n",
       "  </thead>\n",
       "  <tbody>\n",
       "    <tr>\n",
       "      <th>0</th>\n",
       "      <td>Neutral</td>\n",
       "      <td>Very cutem I cant stop looking this picture be...</td>\n",
       "    </tr>\n",
       "    <tr>\n",
       "      <th>1</th>\n",
       "      <td>Neutral</td>\n",
       "      <td>You can t control what others do you can only ...</td>\n",
       "    </tr>\n",
       "    <tr>\n",
       "      <th>2</th>\n",
       "      <td>Neutral</td>\n",
       "      <td>NaN</td>\n",
       "    </tr>\n",
       "    <tr>\n",
       "      <th>3</th>\n",
       "      <td>Neutral</td>\n",
       "      <td>Si s veritat el que diu aquest diari de fatxes...</td>\n",
       "    </tr>\n",
       "    <tr>\n",
       "      <th>4</th>\n",
       "      <td>Negative</td>\n",
       "      <td>Drivers parade Seb5 Kimi7 BritishGP</td>\n",
       "    </tr>\n",
       "    <tr>\n",
       "      <th>5</th>\n",
       "      <td>Neutral</td>\n",
       "      <td>Instagram story</td>\n",
       "    </tr>\n",
       "    <tr>\n",
       "      <th>6</th>\n",
       "      <td>Positive</td>\n",
       "      <td>Vettel still having issues with his neck but h...</td>\n",
       "    </tr>\n",
       "    <tr>\n",
       "      <th>7</th>\n",
       "      <td>Neutral</td>\n",
       "      <td>In all of this NYSC Certificate wahala how is ...</td>\n",
       "    </tr>\n",
       "    <tr>\n",
       "      <th>8</th>\n",
       "      <td>Neutral</td>\n",
       "      <td>Si s veritat el que diu aquest diari de fatxes...</td>\n",
       "    </tr>\n",
       "    <tr>\n",
       "      <th>9</th>\n",
       "      <td>Negative</td>\n",
       "      <td>It was fine simi Dreamt I was hugged by a monk...</td>\n",
       "    </tr>\n",
       "  </tbody>\n",
       "</table>\n",
       "</div>"
      ],
      "text/plain": [
       "  Sentiment                                              Tweet\n",
       "0   Neutral  Very cutem I cant stop looking this picture be...\n",
       "1   Neutral  You can t control what others do you can only ...\n",
       "2   Neutral                                                NaN\n",
       "3   Neutral  Si s veritat el que diu aquest diari de fatxes...\n",
       "4  Negative                Drivers parade Seb5 Kimi7 BritishGP\n",
       "5   Neutral                                    Instagram story\n",
       "6  Positive  Vettel still having issues with his neck but h...\n",
       "7   Neutral  In all of this NYSC Certificate wahala how is ...\n",
       "8   Neutral  Si s veritat el que diu aquest diari de fatxes...\n",
       "9  Negative  It was fine simi Dreamt I was hugged by a monk..."
      ]
     },
     "execution_count": 76,
     "metadata": {},
     "output_type": "execute_result"
    }
   ],
   "source": [
    "my_df.head(20)"
   ]
  },
  {
   "cell_type": "code",
   "execution_count": null,
   "metadata": {},
   "outputs": [],
   "source": []
  }
 ],
 "metadata": {
  "kernelspec": {
   "display_name": "Python 3",
   "language": "python",
   "name": "python3"
  },
  "language_info": {
   "codemirror_mode": {
    "name": "ipython",
    "version": 3
   },
   "file_extension": ".py",
   "mimetype": "text/x-python",
   "name": "python",
   "nbconvert_exporter": "python",
   "pygments_lexer": "ipython3",
   "version": "3.6.5"
  },
  "widgets": {
   "application/vnd.jupyter.widget-state+json": {
    "state": {},
    "version_major": 2,
    "version_minor": 0
   }
  }
 },
 "nbformat": 4,
 "nbformat_minor": 2
}
